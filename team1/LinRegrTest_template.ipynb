{
 "cells": [
  {
   "cell_type": "code",
   "execution_count": null,
   "id": "eabac586-2f1f-428e-b429-dc8c2c6ade47",
   "metadata": {},
   "outputs": [],
   "source": [
    "import numpy as np \n",
    "import random\n",
    "import matplotlib.pyplot as plt "
   ]
  },
  {
   "cell_type": "code",
   "execution_count": null,
   "id": "f7aa360f",
   "metadata": {},
   "outputs": [],
   "source": [
    "# Load or generate the data and make sure is somehow showing a linear behaviour. \n",
    "# This step should be reproducible so use a random seed\n",
    "np.random.seed(123)\n",
    "\n",
    "sample_size = 300\n",
    "\n",
    "\n",
    "# Add a column of ones to X\n",
    "noise = np.random.normal(0,1, size = sample_size)\n",
    "\n",
    "Xs = np.linspace(0, 2, sample_size)\n",
    "\n",
    "# Initialize the parameters\n",
    "\n",
    "#y = 1 + 3x + noise\n",
    "\n",
    "Ys = 1 + 3 * Xs + noise\n",
    "true_Ys = 1 + 3 * Xs\n",
    "\n",
    "# Set the hyperparameters\n",
    "\n",
    "# Run gradient descent\n",
    "\n",
    "# Plot the cost function\n",
    "\n",
    "# Plot the regression line"
   ]
  },
  {
   "cell_type": "code",
   "execution_count": null,
   "id": "4f0e1887",
   "metadata": {},
   "outputs": [],
   "source": [
    "plt.scatter(x = Xs, y = Ys)\n",
    "plt.plot(Xs, true_Ys, color = \"red\", label = \"True line: 1 + 3x\")\n",
    "plt.xlabel(\"x\")\n",
    "plt.ylabel(\"y\")\n",
    "plt.legend()\n",
    "plt.show()"
   ]
  },
  {
   "cell_type": "code",
   "execution_count": null,
   "id": "977c3019-0350-4532-b4ba-acd9a756c8f5",
   "metadata": {},
   "outputs": [],
   "source": [
    "# Load or generate the data and make sure is somehow showing a linear behaviour. \n",
    "# This step should be reproducible so use a random seed\n",
    "\n",
    "\n",
    "# Add a column of ones to X\n",
    "\n",
    "# Initialize the parameters\n",
    "\n",
    "# Set the hyperparameters\n",
    "\n",
    "# Run gradient descent\n",
    "\n",
    "# Plot the cost function\n",
    "\n",
    "# Plot the regression line\n"
   ]
  }
 ],
 "metadata": {
  "kernelspec": {
   "display_name": "Python 3",
   "language": "python",
   "name": "python3"
  },
  "language_info": {
   "codemirror_mode": {
    "name": "ipython",
    "version": 3
   },
   "file_extension": ".py",
   "mimetype": "text/x-python",
   "name": "python",
   "nbconvert_exporter": "python",
   "pygments_lexer": "ipython3",
   "version": "3.9.1 (tags/v3.9.1:1e5d33e, Dec  7 2020, 17:08:21) [MSC v.1927 64 bit (AMD64)]"
  },
  "vscode": {
   "interpreter": {
    "hash": "22d6e265665e3fd003c507236e4b41bebabeabffd87a2707ff60f2ccfd3340f8"
   }
  }
 },
 "nbformat": 4,
 "nbformat_minor": 5
}
